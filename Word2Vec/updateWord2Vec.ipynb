{
 "cells": [
  {
   "cell_type": "code",
   "execution_count": 1,
   "metadata": {},
   "outputs": [],
   "source": [
    "from gensim.models import Word2Vec\n",
    "sentences = [['yes', 'this', 'is', 'the', 'word2vec', 'mode'],[ 'if',\"you\",\"have\",\"think\",\"about\",\"it\"]]\n",
    "model = Word2Vec(sentences,size = 10, window=5,min_count = 1)"
   ]
  },
  {
   "cell_type": "code",
   "execution_count": 2,
   "metadata": {},
   "outputs": [
    {
     "data": {
      "text/plain": [
       "{'yes': <gensim.models.keyedvectors.Vocab at 0x110b299d0>,\n",
       " 'this': <gensim.models.keyedvectors.Vocab at 0x1a2311fe90>,\n",
       " 'is': <gensim.models.keyedvectors.Vocab at 0x1a2313d950>,\n",
       " 'the': <gensim.models.keyedvectors.Vocab at 0x1a2313d990>,\n",
       " 'word2vec': <gensim.models.keyedvectors.Vocab at 0x1a233fd350>,\n",
       " 'mode': <gensim.models.keyedvectors.Vocab at 0x1a23418b90>,\n",
       " 'if': <gensim.models.keyedvectors.Vocab at 0x1a23418bd0>,\n",
       " 'you': <gensim.models.keyedvectors.Vocab at 0x1a23418c10>,\n",
       " 'have': <gensim.models.keyedvectors.Vocab at 0x1a233f0f10>,\n",
       " 'think': <gensim.models.keyedvectors.Vocab at 0x1a23418b10>,\n",
       " 'about': <gensim.models.keyedvectors.Vocab at 0x1a23418c50>,\n",
       " 'it': <gensim.models.keyedvectors.Vocab at 0x1a23418c90>}"
      ]
     },
     "execution_count": 2,
     "metadata": {},
     "output_type": "execute_result"
    }
   ],
   "source": [
    "model.wv.vocab"
   ]
  },
  {
   "cell_type": "code",
   "execution_count": 3,
   "metadata": {},
   "outputs": [
    {
     "data": {
      "text/plain": [
       "{'bad': <gensim.models.keyedvectors.Vocab at 0x1a2343c1d0>,\n",
       " 'robots': <gensim.models.keyedvectors.Vocab at 0x1a2343c190>,\n",
       " 'good': <gensim.models.keyedvectors.Vocab at 0x1a2343c210>,\n",
       " 'human': <gensim.models.keyedvectors.Vocab at 0x1a2343c250>}"
      ]
     },
     "execution_count": 3,
     "metadata": {},
     "output_type": "execute_result"
    }
   ],
   "source": [
    "old_sentences = [[\"bad\",\"robots\"],[\"good\",\"human\"]]\n",
    "new_sentences = [['yes', 'this', 'is', 'the', 'word2vec', 'model'],[ 'if',\"you\",\"have\",\"think\",\"about\",\"it\"]]\n",
    "old_model = Word2Vec(old_sentences,size = 10, window=5, min_count = 1, workers = 2)\n",
    "old_model.wv.vocab"
   ]
  },
  {
   "cell_type": "code",
   "execution_count": 4,
   "metadata": {},
   "outputs": [
    {
     "data": {
      "text/plain": [
       "{'bad': <gensim.models.keyedvectors.Vocab at 0x1a2343c450>,\n",
       " 'robots': <gensim.models.keyedvectors.Vocab at 0x1a2343c710>,\n",
       " 'good': <gensim.models.keyedvectors.Vocab at 0x1a2343c910>,\n",
       " 'human': <gensim.models.keyedvectors.Vocab at 0x1a2343c950>,\n",
       " 'yes': <gensim.models.keyedvectors.Vocab at 0x1a2343e7d0>,\n",
       " 'this': <gensim.models.keyedvectors.Vocab at 0x1a2343ca90>,\n",
       " 'is': <gensim.models.keyedvectors.Vocab at 0x1a2343ca50>,\n",
       " 'the': <gensim.models.keyedvectors.Vocab at 0x1a2343c990>,\n",
       " 'word2vec': <gensim.models.keyedvectors.Vocab at 0x1a2343cd90>,\n",
       " 'model': <gensim.models.keyedvectors.Vocab at 0x1a2343cfd0>,\n",
       " 'if': <gensim.models.keyedvectors.Vocab at 0x1a2343cf90>,\n",
       " 'you': <gensim.models.keyedvectors.Vocab at 0x1a2343c5d0>,\n",
       " 'have': <gensim.models.keyedvectors.Vocab at 0x1a2343ca10>,\n",
       " 'think': <gensim.models.keyedvectors.Vocab at 0x1a2343c150>,\n",
       " 'about': <gensim.models.keyedvectors.Vocab at 0x1a2343c9d0>,\n",
       " 'it': <gensim.models.keyedvectors.Vocab at 0x1a2343c890>}"
      ]
     },
     "execution_count": 4,
     "metadata": {},
     "output_type": "execute_result"
    }
   ],
   "source": [
    "old_model.save(\"old_model\")\n",
    "new_model = Word2Vec.load(\"old_model\")\n",
    "new_model.build_vocab(new_sentences, update = True)\n",
    "new_model.train(new_sentences, total_examples=2, epochs = 1)\n",
    "new_model.wv.vocab"
   ]
  },
  {
   "cell_type": "code",
   "execution_count": null,
   "metadata": {},
   "outputs": [],
   "source": []
  }
 ],
 "metadata": {
  "kernelspec": {
   "display_name": "Python 3",
   "language": "python",
   "name": "python3"
  },
  "language_info": {
   "codemirror_mode": {
    "name": "ipython",
    "version": 3
   },
   "file_extension": ".py",
   "mimetype": "text/x-python",
   "name": "python",
   "nbconvert_exporter": "python",
   "pygments_lexer": "ipython3",
   "version": "3.7.6"
  }
 },
 "nbformat": 4,
 "nbformat_minor": 4
}
